{
  "metadata": {
    "kernelspec": {
      "display_name": "Python 3",
      "language": "python",
      "name": "python3"
    },
    "language_info": {
      "name": "python",
      "version": "3.10.12",
      "mimetype": "text/x-python",
      "codemirror_mode": {
        "name": "ipython",
        "version": 3
      },
      "pygments_lexer": "ipython3",
      "nbconvert_exporter": "python",
      "file_extension": ".py"
    },
    "kaggle": {
      "accelerator": "none",
      "dataSources": [
        {
          "sourceId": 60002,
          "databundleVersionId": 6475798,
          "sourceType": "competition"
        }
      ],
      "dockerImageVersionId": 30553,
      "isInternetEnabled": true,
      "language": "python",
      "sourceType": "notebook",
      "isGpuEnabled": false
    },
    "colab": {
      "provenance": [],
      "include_colab_link": true
    }
  },
  "nbformat_minor": 0,
  "nbformat": 4,
  "cells": [
    {
      "cell_type": "markdown",
      "metadata": {
        "id": "view-in-github",
        "colab_type": "text"
      },
      "source": [
        "<a href=\"https://colab.research.google.com/github/FrancescoMichael/Algeo01-22004/blob/main/IF3170_AI_%7C_EDA_Assignment_Notebook_Template.ipynb\" target=\"_parent\"><img src=\"https://colab.research.google.com/assets/colab-badge.svg\" alt=\"Open In Colab\"/></a>"
      ]
    },
    {
      "cell_type": "markdown",
      "source": [
        "# IF3170 Artificial Intelligence | EDA Assignement\n",
        "\n",
        "This notebook serves as a template for the assignment. Please create a copy of this notebook to complete your work. You can add more code blocks if needed."
      ],
      "metadata": {
        "id": "uSIWCqrYmFED"
      }
    },
    {
      "cell_type": "markdown",
      "source": [
        "Group Number: xx\n",
        "\n",
        "Group Members:\n",
        "- Name (NIM)\n",
        "- Name (NIM)"
      ],
      "metadata": {
        "id": "h7GBlbj5mFEE"
      }
    },
    {
      "cell_type": "markdown",
      "source": [
        "## Import Libraries"
      ],
      "metadata": {
        "id": "0h-OTlV0mFEE"
      }
    },
    {
      "cell_type": "code",
      "source": [
        "import pandas as pd\n",
        "import numpy as np\n",
        "\n",
        "# Import other libraries if needed"
      ],
      "metadata": {
        "id": "6HiGhI10mFEE"
      },
      "outputs": [],
      "execution_count": null
    },
    {
      "cell_type": "markdown",
      "source": [
        "## Import Dataset"
      ],
      "metadata": {
        "id": "ugTwxRyfmFEF"
      }
    },
    {
      "cell_type": "code",
      "source": [
        "# Write your code here"
      ],
      "metadata": {
        "id": "7ZTuW8PemFEF"
      },
      "outputs": [],
      "execution_count": null
    },
    {
      "cell_type": "markdown",
      "source": [
        "# 1. Exploratory Data Analysis\n",
        "\n",
        "Exploratory Data Analysis (EDA) is a crucial step in the data analysis process that involves examining and visualizing data sets to uncover patterns, trends, anomalies, and insights. It is the first step before applying more advanced statistical and machine learning techniques. EDA helps you to gain a deep understanding of the data you are working with, allowing you to make informed decisions and formulate hypotheses for further analysis."
      ],
      "metadata": {
        "id": "M7K9dRzOmFEG"
      }
    },
    {
      "cell_type": "markdown",
      "source": [
        "## A. Data Understanding\n",
        "The objective of this section is for participants to understand the quality of the provided data. This includes:\n",
        "\n",
        "1. Data Size\n",
        "2. Statistics of Each Feature\n",
        "3. Outliers\n",
        "4. Correlation\n",
        "5. Distribution"
      ],
      "metadata": {
        "id": "w6tzpaCimFEG"
      }
    },
    {
      "cell_type": "markdown",
      "source": [
        "### Step 1\n",
        "\n",
        "Find the following:\n",
        "\n",
        "1. The size of the data (instances and features).\n",
        "2. The data types of each feature.\n",
        "3. The number of unique values for categorical features.\n",
        "4. The minimum, maximum, mean, median, and standard deviation values for non-categorical features.\n",
        "5. Explain the significance of gathering the first four pieces of information."
      ],
      "metadata": {
        "id": "96TcnbB9mFEG"
      }
    },
    {
      "cell_type": "code",
      "source": [
        "# Write your code here"
      ],
      "metadata": {
        "id": "TaELJ0atmFEG"
      },
      "outputs": [],
      "execution_count": null
    },
    {
      "cell_type": "markdown",
      "source": [
        "### Step 2\n",
        "\n",
        "Find the following:\n",
        "\n",
        "1. Missing values for each feature.\n",
        "2. Outliers for each feature (use the methods you are familiar with).\n",
        "3. Why is it necessary to identify missing values and outliers?"
      ],
      "metadata": {
        "id": "sNRFMQoumFEG"
      }
    },
    {
      "cell_type": "code",
      "source": [
        "# Write your code here"
      ],
      "metadata": {
        "id": "caSC8wnpmFEH"
      },
      "outputs": [],
      "execution_count": null
    },
    {
      "cell_type": "markdown",
      "source": [
        "### Step 3\n",
        "\n",
        "Find the following:\n",
        "\n",
        "1. Correlations between features.\n",
        "2. Visualize the distribution of each feature (categorical and continuous).\n",
        "3. Visualize the correlation between features and the target variable.\n",
        "4. Explain the significance of understanding feature distributions and correlations."
      ],
      "metadata": {
        "id": "nl_Xcxn-mFEH"
      }
    },
    {
      "cell_type": "code",
      "source": [
        "# Write your code here"
      ],
      "metadata": {
        "id": "y7uzcuWgmFEH"
      },
      "outputs": [],
      "execution_count": null
    },
    {
      "cell_type": "markdown",
      "source": [
        "## B. Data Insights\n",
        "\n",
        "The objective of this section is for participants to understand how to formulate and get many insights from the given data so that we can improve the model performance. Given example questions:\n",
        "\n",
        "1. What are the most common protocols (proto) in the dataset, and are certain protocols more associated with specific attack categories?\n",
        "2. Are there significant differences in the values of network characteristics such as sload, sload, sbytes, and dbytes between attack and normal records?\n",
        "3. How does TCP-setup-related features vary, such as tcprtt, synack, and ackdat, across normal records and each type of attack records?"
      ],
      "metadata": {
        "id": "tGS62xxlmFEH"
      }
    },
    {
      "cell_type": "markdown",
      "source": [
        "### Step 1\n",
        "\n",
        "Answer the three example questions by visualizing and explaining the insights for each question. Add markdown texts to explain the visualizations."
      ],
      "metadata": {
        "id": "ngKJAIjHmFEH"
      }
    },
    {
      "cell_type": "markdown",
      "source": [
        "#### 1. What are the most common protocols (proto) in the dataset, and are certain protocols more associated with specific attack categories?"
      ],
      "metadata": {
        "id": "gQBlE_O0mFEH"
      }
    },
    {
      "cell_type": "code",
      "source": [
        "# Write your code here"
      ],
      "metadata": {
        "id": "wVaopwwPmFEH"
      },
      "outputs": [],
      "execution_count": null
    },
    {
      "cell_type": "markdown",
      "source": [
        "#### 2. Are there any significant differences in the values of network characteristics such as Sload, Dload, sbytes, and dbytes between attack and normal records?"
      ],
      "metadata": {
        "id": "l-fb-3klmFEI"
      }
    },
    {
      "cell_type": "code",
      "source": [
        "# Write your code here"
      ],
      "metadata": {
        "id": "23RcHcP3mFEI"
      },
      "outputs": [],
      "execution_count": null
    },
    {
      "cell_type": "markdown",
      "source": [
        "#### 3. How does TCP-setup-related features vary, such as tcprtt, synack, and ackdat, across normal records and each type of attack records?"
      ],
      "metadata": {
        "id": "OIKBiJrCmFEI"
      }
    },
    {
      "cell_type": "code",
      "source": [
        "# Write your code here"
      ],
      "metadata": {
        "trusted": true,
        "id": "1TSAakrmmFEI"
      },
      "outputs": [],
      "execution_count": null
    },
    {
      "cell_type": "markdown",
      "source": [
        "### Step 2\n",
        "\n",
        "Try to formulate five other new questions and answer them with the methods used before."
      ],
      "metadata": {
        "id": "TLO0_HBwmFEI"
      }
    },
    {
      "cell_type": "markdown",
      "source": [
        "#### 4. Your first question (replace this heading)"
      ],
      "metadata": {
        "id": "m8Xzww7lmFEI"
      }
    },
    {
      "cell_type": "code",
      "source": [
        "# Write your code here"
      ],
      "metadata": {
        "id": "zkaWpkSwmFEI"
      },
      "outputs": [],
      "execution_count": null
    },
    {
      "cell_type": "markdown",
      "source": [
        "#### 5. Your second question (replace this heading)"
      ],
      "metadata": {
        "id": "8fkn9jVWmFEI"
      }
    },
    {
      "cell_type": "code",
      "source": [
        "# Write your code here"
      ],
      "metadata": {
        "id": "uEg3UUM4mFEI"
      },
      "outputs": [],
      "execution_count": null
    },
    {
      "cell_type": "markdown",
      "source": [
        "#### 6. Your third question (replace this heading)"
      ],
      "metadata": {
        "id": "GD-Mq9t2mFEJ"
      }
    },
    {
      "cell_type": "code",
      "source": [
        "# Write your code here"
      ],
      "metadata": {
        "trusted": true,
        "id": "x8j9ErzJmFEJ"
      },
      "outputs": [],
      "execution_count": null
    },
    {
      "cell_type": "markdown",
      "source": [
        "#### 7. Your fourth question (replace this heading)"
      ],
      "metadata": {
        "id": "i2iqJTl9mFEJ"
      }
    },
    {
      "cell_type": "code",
      "source": [
        "# Write your code here"
      ],
      "metadata": {
        "trusted": true,
        "execution": {
          "iopub.status.busy": "2024-11-05T04:10:12.27873Z",
          "iopub.execute_input": "2024-11-05T04:10:12.279152Z",
          "iopub.status.idle": "2024-11-05T04:10:12.311421Z",
          "shell.execute_reply.started": "2024-11-05T04:10:12.279108Z",
          "shell.execute_reply": "2024-11-05T04:10:12.310572Z"
        },
        "id": "S9HubN-8mFEJ"
      },
      "outputs": [],
      "execution_count": null
    },
    {
      "cell_type": "markdown",
      "source": [
        "#### 8. Your fifth question (replace this heading)"
      ],
      "metadata": {
        "id": "a8IdPTpsmFEJ"
      }
    },
    {
      "cell_type": "code",
      "source": [
        "# Write your code here"
      ],
      "metadata": {
        "trusted": true,
        "id": "0NwSQ3a_mFEJ"
      },
      "outputs": [],
      "execution_count": null
    }
  ]
}